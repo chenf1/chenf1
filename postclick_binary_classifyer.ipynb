{
  "nbformat": 4,
  "nbformat_minor": 0,
  "metadata": {
    "colab": {
      "name": "postclick_binary_classifyer.ipynb",
      "provenance": [],
      "collapsed_sections": [],
      "mount_file_id": "1jX0Q3hUFTYhMbpU4mIHV2KsM-uRmVhfT",
      "authorship_tag": "ABX9TyOXWNP7Xn7T/adaqALPgZVZ"
    },
    "kernelspec": {
      "name": "python3",
      "display_name": "Python 3"
    },
    "language_info": {
      "name": "python"
    }
  },
  "cells": [
    {
      "cell_type": "code",
      "execution_count": 74,
      "metadata": {
        "id": "aBBSyfkUvWqX"
      },
      "outputs": [],
      "source": [
        "import pandas as pd\n",
        "import numpy as np\n",
        "import matplotlib.pyplot as plt\n",
        "import seaborn as sns\n",
        "import scipy.stats as stats\n",
        "import pickle"
      ]
    },
    {
      "cell_type": "code",
      "source": [
        "#models\n",
        "from sklearn.model_selection import train_test_split\n",
        "from sklearn.pipeline import Pipeline\n",
        "from sklearn.model_selection import GridSearchCV\n",
        "\n",
        "from sklearn.preprocessing import OneHotEncoder \n",
        "from sklearn.impute import SimpleImputer\n",
        "from sklearn.compose import ColumnTransformer\n",
        "from sklearn.preprocessing import StandardScaler\n",
        "from sklearn.utils.class_weight import compute_sample_weight\n",
        "\n",
        "import xgboost as xgb\n",
        "from xgboost.sklearn import XGBClassifier\n",
        "\n",
        "from sklearn import metrics\n",
        "\n",
        "#imbalance oversampling\n",
        "from collections import Counter\n",
        "from imblearn.over_sampling import SMOTE"
      ],
      "metadata": {
        "id": "FyRD_rZevfCX"
      },
      "execution_count": 75,
      "outputs": []
    },
    {
      "cell_type": "code",
      "source": [
        "# output setting\n",
        "pd.set_option('display.max_columns', 500)\n",
        "pd.set_option('display.max_rows', None)"
      ],
      "metadata": {
        "id": "Z6jUGU7BqG0G"
      },
      "execution_count": 77,
      "outputs": []
    },
    {
      "cell_type": "code",
      "source": [
        "from IPython.core.interactiveshell import InteractiveShell\n",
        "InteractiveShell.ast_node_interactivity = \"all\""
      ],
      "metadata": {
        "id": "jqVFi5vVI-0i"
      },
      "execution_count": 78,
      "outputs": []
    },
    {
      "cell_type": "markdown",
      "source": [
        "# Import datasets"
      ],
      "metadata": {
        "id": "WI1Tw2xoM4Na"
      }
    },
    {
      "cell_type": "code",
      "source": [
        "#import label\n",
        "y_dt = pd.read_csv('/content/drive/MyDrive/Colab Notebooks/postclick/data/orange_small_train_appetency.labels',sep = '\\t', header = None)"
      ],
      "metadata": {
        "id": "E6Kt98ZjMM42"
      },
      "execution_count": 79,
      "outputs": []
    },
    {
      "cell_type": "code",
      "source": [
        "# set lable name as 'y'\n",
        "y_dt.columns = ['y']"
      ],
      "metadata": {
        "id": "v6Bo8cMvqN_c"
      },
      "execution_count": 80,
      "outputs": []
    },
    {
      "cell_type": "code",
      "source": [
        "# imbalance classes\n",
        "y_dt.y.value_counts(dropna = False, normalize = True)"
      ],
      "metadata": {
        "colab": {
          "base_uri": "https://localhost:8080/"
        },
        "id": "STiybnCMTG8W",
        "outputId": "3a25d0ff-b7f7-4fd5-b86f-81cfda6c73db"
      },
      "execution_count": 81,
      "outputs": [
        {
          "output_type": "execute_result",
          "data": {
            "text/plain": [
              "-1    0.9822\n",
              " 1    0.0178\n",
              "Name: y, dtype: float64"
            ]
          },
          "metadata": {},
          "execution_count": 81
        }
      ]
    },
    {
      "cell_type": "code",
      "source": [
        "#define pie data\n",
        "freq = y_dt.y.value_counts(dropna = False)\n",
        "labels = ['-1', '1']\n",
        "\n",
        "#define Seaborn color palette to use\n",
        "colors = sns.color_palette('bright')[3:5]\n",
        "\n",
        "#create pie chart\n",
        "plt.pie(freq, labels = labels, colors = colors, autopct='%.0f%%')\n",
        "plt.title('outcome')\n",
        "plt.show()"
      ],
      "metadata": {
        "colab": {
          "base_uri": "https://localhost:8080/",
          "height": 368
        },
        "id": "IDHCB9JbGPLR",
        "outputId": "9e0ad9eb-ee0f-4860-8353-af896b4192f5"
      },
      "execution_count": 82,
      "outputs": [
        {
          "output_type": "execute_result",
          "data": {
            "text/plain": [
              "([<matplotlib.patches.Wedge at 0x7f510e22ca50>,\n",
              "  <matplotlib.patches.Wedge at 0x7f510e02e1d0>],\n",
              " [Text(-1.0982805562606, 0.061480238612967746, '-1'),\n",
              "  Text(1.098280561297267, -0.06148014863807711, '1')],\n",
              " [Text(-0.5990621215966908, 0.03353467560707331, '98%'),\n",
              "  Text(0.5990621243439638, -0.03353462652986024, '2%')])"
            ]
          },
          "metadata": {},
          "execution_count": 82
        },
        {
          "output_type": "execute_result",
          "data": {
            "text/plain": [
              "Text(0.5, 1.0, 'outcome')"
            ]
          },
          "metadata": {},
          "execution_count": 82
        },
        {
          "output_type": "display_data",
          "data": {
            "text/plain": [
              "<Figure size 432x288 with 1 Axes>"
            ],
            "image/png": "[encoded data removed]"
          },
          "metadata": {}
        }
      ]
    },
    {
      "cell_type": "code",
      "source": [
        "# import features(predictors)\n",
        "x_dt = pd.read_csv('/content/drive/MyDrive/Colab Notebooks/postclick/data/orange_small_train.data',sep = '\\t')"
      ],
      "metadata": {
        "id": "VwZ0nygl28Xw"
      },
      "execution_count": 83,
      "outputs": []
    },
    {
      "cell_type": "code",
      "source": [
        "x_dt.shape"
      ],
      "metadata": {
        "colab": {
          "base_uri": "https://localhost:8080/"
        },
        "id": "JLe6FrZ-7cT3",
        "outputId": "10a494d2-5a02-4a09-a70f-161dda715528"
      },
      "execution_count": 84,
      "outputs": [
        {
          "output_type": "execute_result",
          "data": {
            "text/plain": [
              "(50000, 230)"
            ]
          },
          "metadata": {},
          "execution_count": 84
        }
      ]
    },
    {
      "cell_type": "markdown",
      "source": [
        "# Feature exploration and selection\n",
        "\n",
        "Categorical variables selection rules:\n",
        "1. Exclude variabales with >40% missing data(eg. Var215)\n",
        "2. Exclude variables with only one level(eg. Var215)\n",
        "3. Only include variables with <= 5 levels variables(eg. Var198,exclued)\n",
        "4. Exclude variables if its most frequency levels > 95% (eg.Var196)\n",
        "\n",
        "Numeric variables selection rules:\n",
        "1. Exclude variables with >40% missing data"
      ],
      "metadata": {
        "id": "WAsK8RMd_XNq"
      }
    },
    {
      "cell_type": "code",
      "source": [
        "#: total rows of dataset\n",
        "n = x_dt.shape[0]"
      ],
      "metadata": {
        "id": "M1i4tCsOn-Lh"
      },
      "execution_count": 85,
      "outputs": []
    },
    {
      "cell_type": "code",
      "source": [
        "# checking missing rate for each variables(230 total)\n",
        "Not_missing_rate = ((n - x_dt.isnull().sum())/n)"
      ],
      "metadata": {
        "id": "OyNGuOWj7mDL"
      },
      "execution_count": 86,
      "outputs": []
    },
    {
      "cell_type": "code",
      "source": [
        "Not_missing_rate.sort_values()"
      ],
      "metadata": {
        "colab": {
          "base_uri": "https://localhost:8080/"
        },
        "id": "5O5d8yc5nomd",
        "outputId": "b4f0358b-aa79-4cf1-8e0a-0c1950662aac"
      },
      "execution_count": 87,
      "outputs": [
        {
          "output_type": "execute_result",
          "data": {
            "text/plain": [
              "Var230    0.00000\n",
              "Var52     0.00000\n",
              "Var48     0.00000\n",
              "Var79     0.00000\n",
              "Var42     0.00000\n",
              "Var39     0.00000\n",
              "Var32     0.00000\n",
              "Var31     0.00000\n",
              "Var141    0.00000\n",
              "Var20     0.00000\n",
              "Var167    0.00000\n",
              "Var15     0.00000\n",
              "Var55     0.00000\n",
              "Var175    0.00000\n",
              "Var209    0.00000\n",
              "Var169    0.00000\n",
              "Var185    0.00000\n",
              "Var8      0.00000\n",
              "Var118    0.00342\n",
              "Var92     0.00342\n",
              "Var64     0.00476\n",
              "Var190    0.00666\n",
              "Var45     0.00688\n",
              "Var102    0.00902\n",
              "Var98     0.01116\n",
              "Var12     0.01116\n",
              "Var62     0.01116\n",
              "Var178    0.01292\n",
              "Var89     0.01292\n",
              "Var56     0.01292\n",
              "Var66     0.01388\n",
              "Var136    0.01388\n",
              "Var63     0.01388\n",
              "Var215    0.01388\n",
              "Var156    0.01388\n",
              "Var58     0.01404\n",
              "Var187    0.01404\n",
              "Var77     0.01404\n",
              "Var86     0.01404\n",
              "Var168    0.01404\n",
              "Var186    0.01404\n",
              "Var90     0.01404\n",
              "Var108    0.01404\n",
              "Var110    0.01404\n",
              "Var116    0.01404\n",
              "Var121    0.01404\n",
              "Var129    0.01404\n",
              "Var131    0.01404\n",
              "Var137    0.01404\n",
              "Var180    0.01404\n",
              "Var142    0.01404\n",
              "Var154    0.01404\n",
              "Var87     0.01404\n",
              "Var100    0.01404\n",
              "Var1      0.01404\n",
              "Var53     0.01404\n",
              "Var9      0.01404\n",
              "Var29     0.01404\n",
              "Var30     0.01404\n",
              "Var50     0.01404\n",
              "Var47     0.01404\n",
              "Var41     0.01404\n",
              "Var224    0.01640\n",
              "Var105    0.01640\n",
              "Var104    0.01640\n",
              "Var115    0.01640\n",
              "Var59     0.01640\n",
              "Var33     0.01694\n",
              "Var61     0.01694\n",
              "Var151    0.01694\n",
              "Var158    0.01746\n",
              "Var101    0.01746\n",
              "Var165    0.01746\n",
              "Var128    0.02166\n",
              "Var88     0.02166\n",
              "Var171    0.02166\n",
              "Var191    0.02166\n",
              "Var127    0.02166\n",
              "Var213    0.02258\n",
              "Var111    0.02258\n",
              "Var91     0.02258\n",
              "Var71     0.02258\n",
              "Var157    0.02258\n",
              "Var14     0.02480\n",
              "Var11     0.02480\n",
              "Var84     0.02480\n",
              "Var3      0.02480\n",
              "Var130    0.02480\n",
              "Var176    0.02480\n",
              "Var159    0.02482\n",
              "Var34     0.02482\n",
              "Var46     0.02482\n",
              "Var162    0.02482\n",
              "Var49     0.02482\n",
              "Var114    0.02482\n",
              "Var122    0.02482\n",
              "Var170    0.02482\n",
              "Var95     0.02482\n",
              "Var36     0.02482\n",
              "Var40     0.02482\n",
              "Var177    0.02482\n",
              "Var43     0.02482\n",
              "Var183    0.02482\n",
              "Var184    0.02482\n",
              "Var75     0.02482\n",
              "Var188    0.02482\n",
              "Var2      0.02482\n",
              "Var68     0.02482\n",
              "Var96     0.02482\n",
              "Var54     0.02482\n",
              "Var139    0.02974\n",
              "Var23     0.02974\n",
              "Var67     0.02974\n",
              "Var147    0.02974\n",
              "Var166    0.02974\n",
              "Var172    0.02974\n",
              "Var10     0.02974\n",
              "Var5      0.02974\n",
              "Var146    0.02974\n",
              "Var16     0.02974\n",
              "Var148    0.02974\n",
              "Var120    0.02974\n",
              "Var107    0.02974\n",
              "Var103    0.02974\n",
              "Var93     0.02974\n",
              "Var26     0.02974\n",
              "Var80     0.02974\n",
              "Var97     0.02974\n",
              "Var60     0.02974\n",
              "Var69     0.02974\n",
              "Var70     0.02974\n",
              "Var27     0.02974\n",
              "Var152    0.03158\n",
              "Var18     0.03158\n",
              "Var155    0.03158\n",
              "Var17     0.03158\n",
              "Var106    0.03158\n",
              "Var179    0.03158\n",
              "Var164    0.03158\n",
              "Var150    0.03158\n",
              "Var4      0.03158\n",
              "Var37     0.03158\n",
              "Var174    0.03158\n",
              "Var182    0.03158\n",
              "Var161    0.03158\n",
              "Var99     0.03158\n",
              "Var82     0.03158\n",
              "Var145    0.03158\n",
              "Var117    0.03158\n",
              "Var19     0.03158\n",
              "Var138    0.03158\n",
              "Var135    0.03158\n",
              "Var124    0.03158\n",
              "Var51     0.07494\n",
              "Var201    0.25566\n",
              "Var194    0.25568\n",
              "Var189    0.42044\n",
              "Var229    0.43136\n",
              "Var225    0.47712\n",
              "Var200    0.49184\n",
              "Var214    0.49184\n",
              "Var72     0.55240\n",
              "Var94     0.55240\n",
              "Var126    0.72160\n",
              "Var24     0.85540\n",
              "Var149    0.85540\n",
              "Var109    0.85540\n",
              "Var74     0.88922\n",
              "Var125    0.88922\n",
              "Var65     0.88922\n",
              "Var7      0.88922\n",
              "Var13     0.88922\n",
              "Var140    0.88922\n",
              "Var144    0.88942\n",
              "Var81     0.88942\n",
              "Var206    0.88942\n",
              "Var119    0.88942\n",
              "Var6      0.88942\n",
              "Var21     0.88942\n",
              "Var223    0.89578\n",
              "Var219    0.89578\n",
              "Var28     0.89978\n",
              "Var76     0.89982\n",
              "Var123    0.89982\n",
              "Var112    0.89982\n",
              "Var78     0.89982\n",
              "Var153    0.89982\n",
              "Var22     0.89982\n",
              "Var160    0.89982\n",
              "Var35     0.89982\n",
              "Var163    0.89982\n",
              "Var134    0.89982\n",
              "Var44     0.89982\n",
              "Var133    0.89982\n",
              "Var132    0.89982\n",
              "Var38     0.89982\n",
              "Var143    0.89982\n",
              "Var173    0.89982\n",
              "Var181    0.89982\n",
              "Var25     0.89982\n",
              "Var83     0.89982\n",
              "Var85     0.89982\n",
              "Var205    0.96132\n",
              "Var218    0.98594\n",
              "Var217    0.98594\n",
              "Var192    0.99262\n",
              "Var197    0.99714\n",
              "Var208    0.99714\n",
              "Var203    0.99714\n",
              "Var199    0.99992\n",
              "Var202    0.99998\n",
              "Var207    1.00000\n",
              "Var228    1.00000\n",
              "Var227    1.00000\n",
              "Var226    1.00000\n",
              "Var113    1.00000\n",
              "Var57     1.00000\n",
              "Var222    1.00000\n",
              "Var221    1.00000\n",
              "Var196    1.00000\n",
              "Var193    1.00000\n",
              "Var195    1.00000\n",
              "Var216    1.00000\n",
              "Var204    1.00000\n",
              "Var73     1.00000\n",
              "Var212    1.00000\n",
              "Var211    1.00000\n",
              "Var210    1.00000\n",
              "Var220    1.00000\n",
              "Var198    1.00000\n",
              "dtype: float64"
            ]
          },
          "metadata": {},
          "execution_count": 87
        }
      ]
    },
    {
      "cell_type": "code",
      "source": [
        "# feature names for prediction\n",
        "# Exclude variables with >40% data missing (eg. Var207) \n",
        "predictor_vars = Not_missing_rate[Not_missing_rate > 0.6].index"
      ],
      "metadata": {
        "id": "EXg-oWwoumbm"
      },
      "execution_count": 88,
      "outputs": []
    },
    {
      "cell_type": "code",
      "source": [
        "# (230-67)/230 = 163/230= 71% variables with have >40% missing data, which are removed from prediction\n",
        "predictor_vars.size"
      ],
      "metadata": {
        "colab": {
          "base_uri": "https://localhost:8080/"
        },
        "id": "XbI-MvD8Udx9",
        "outputId": "232623de-2fcc-4d7c-c8ae-76f219c534f1"
      },
      "execution_count": 89,
      "outputs": [
        {
          "output_type": "execute_result",
          "data": {
            "text/plain": [
              "67"
            ]
          },
          "metadata": {},
          "execution_count": 89
        }
      ]
    },
    {
      "cell_type": "code",
      "source": [
        "# the dataset for predictive modelling\n",
        "xs = x_dt[predictor_vars]"
      ],
      "metadata": {
        "id": "kQuaoAZAzBNN"
      },
      "execution_count": 90,
      "outputs": []
    },
    {
      "cell_type": "code",
      "source": [
        "# categorical vars names\n",
        "cal_vars = xs.columns[xs.dtypes == 'object']"
      ],
      "metadata": {
        "id": "Sv4eBlZR0lkG"
      },
      "execution_count": 91,
      "outputs": []
    },
    {
      "cell_type": "code",
      "source": [
        "cal_vars.size"
      ],
      "metadata": {
        "colab": {
          "base_uri": "https://localhost:8080/"
        },
        "id": "1EQihBOz10KC",
        "outputId": "9bbfcba7-95d9-42b0-b966-923a8b5b294e"
      },
      "execution_count": 92,
      "outputs": [
        {
          "output_type": "execute_result",
          "data": {
            "text/plain": [
              "28"
            ]
          },
          "metadata": {},
          "execution_count": 92
        }
      ]
    },
    {
      "cell_type": "code",
      "source": [
        "#numeric vars names\n",
        "num_vars = xs.columns[xs.dtypes != 'object']"
      ],
      "metadata": {
        "id": "5ZRcEf7E1vJ2"
      },
      "execution_count": 93,
      "outputs": []
    },
    {
      "cell_type": "code",
      "source": [
        "num_vars.size"
      ],
      "metadata": {
        "colab": {
          "base_uri": "https://localhost:8080/"
        },
        "id": "zZCfmForUX0s",
        "outputId": "1ec1c3e8-f34d-469f-fea9-3d5af51ba33d"
      },
      "execution_count": 94,
      "outputs": [
        {
          "output_type": "execute_result",
          "data": {
            "text/plain": [
              "39"
            ]
          },
          "metadata": {},
          "execution_count": 94
        }
      ]
    },
    {
      "cell_type": "code",
      "source": [
        "# check categorical variables distributions\n",
        "# remove uninformative categorical variables due to the large number of levels with small frequency\n",
        "# or only have one level\n",
        "# I only use categorical vars with <=5 levels as predictors\n",
        "# And the level proportions should be < 95% \n",
        "cal_vars_2 = []\n",
        "for col in xs[cal_vars]:\n",
        "  if (xs[col].value_counts().size <= 5 and xs[col].value_counts().size > 1 and xs[col].value_counts()[0]/n < 0.95):\n",
        "    xs[col].value_counts(dropna = False)/n\n",
        "    print('\\n')\n",
        "    cal_vars_2.append(col)\n"
      ],
      "metadata": {
        "colab": {
          "base_uri": "https://localhost:8080/"
        },
        "id": "5iqyy8ND02pc",
        "outputId": "be765117-28d0-4e9f-f951-4340fdad34fd"
      },
      "execution_count": 140,
      "outputs": [
        {
          "output_type": "execute_result",
          "data": {
            "text/plain": [
              "9_Y1    0.90466\n",
              "HLqf    0.06336\n",
              "F3hy    0.02902\n",
              "NaN     0.00286\n",
              "dgxZ    0.00008\n",
              "pybr    0.00002\n",
              "Name: Var203, dtype: float64"
            ]
          },
          "metadata": {},
          "execution_count": 140
        },
        {
          "output_type": "stream",
          "name": "stdout",
          "text": [
            "\n",
            "\n"
          ]
        },
        {
          "output_type": "execute_result",
          "data": {
            "text/plain": [
              "VpdQ       0.63924\n",
              "09_Q       0.23148\n",
              "sJzTlal    0.09060\n",
              "NaN        0.03868\n",
              "Name: Var205, dtype: float64"
            ]
          },
          "metadata": {},
          "execution_count": 140
        },
        {
          "output_type": "stream",
          "name": "stdout",
          "text": [
            "\n",
            "\n"
          ]
        },
        {
          "output_type": "execute_result",
          "data": {
            "text/plain": [
              "kIsH    0.92044\n",
              "sBgB    0.07670\n",
              "NaN     0.00286\n",
              "Name: Var208, dtype: float64"
            ]
          },
          "metadata": {},
          "execution_count": 140
        },
        {
          "output_type": "stream",
          "name": "stdout",
          "text": [
            "\n",
            "\n"
          ]
        },
        {
          "output_type": "execute_result",
          "data": {
            "text/plain": [
              "L84s    0.80598\n",
              "Mtgm    0.19402\n",
              "Name: Var211, dtype: float64"
            ]
          },
          "metadata": {},
          "execution_count": 140
        },
        {
          "output_type": "stream",
          "name": "stdout",
          "text": [
            "\n",
            "\n"
          ]
        },
        {
          "output_type": "execute_result",
          "data": {
            "text/plain": [
              "cJvF    0.50638\n",
              "UYBR    0.47956\n",
              "NaN     0.01406\n",
              "Name: Var218, dtype: float64"
            ]
          },
          "metadata": {},
          "execution_count": 140
        },
        {
          "output_type": "stream",
          "name": "stdout",
          "text": [
            "\n",
            "\n"
          ]
        },
        {
          "output_type": "execute_result",
          "data": {
            "text/plain": [
              "LM8l689qOp    0.73216\n",
              "jySVZNlOJy    0.11990\n",
              "NaN           0.10422\n",
              "M_8D          0.04044\n",
              "bCPvVye       0.00328\n",
              "Name: Var223, dtype: float64"
            ]
          },
          "metadata": {},
          "execution_count": 140
        },
        {
          "output_type": "stream",
          "name": "stdout",
          "text": [
            "\n",
            "\n"
          ]
        }
      ]
    },
    {
      "cell_type": "code",
      "source": [
        "# final categorical variables for prediction\n",
        "cal_vars_2"
      ],
      "metadata": {
        "colab": {
          "base_uri": "https://localhost:8080/"
        },
        "id": "lXjJO9mT9EU4",
        "outputId": "5356eaa6-e045-483e-fafd-aa4f24dda214"
      },
      "execution_count": 141,
      "outputs": [
        {
          "output_type": "execute_result",
          "data": {
            "text/plain": [
              "['Var203', 'Var205', 'Var208', 'Var211', 'Var218', 'Var223']"
            ]
          },
          "metadata": {},
          "execution_count": 141
        }
      ]
    },
    {
      "cell_type": "code",
      "source": [
        "#check numeric variables' distributions \n",
        "xs[num_vars].describe()"
      ],
      "metadata": {
        "colab": {
          "base_uri": "https://localhost:8080/",
          "height": 364
        },
        "id": "Wv7eOBc11KP2",
        "outputId": "f9058c5f-7431-4b77-e349-db227b3ce1c2"
      },
      "execution_count": 97,
      "outputs": [
        {
          "output_type": "execute_result",
          "data": {
            "text/plain": [
              "                Var6          Var7          Var13         Var21         Var22  \\\n",
              "count   44471.000000  44461.000000   44461.000000  44471.000000  44991.000000   \n",
              "mean     1326.437116      6.809496    1249.688401    234.518225    290.245382   \n",
              "std      2685.693668      6.326053    2794.954874    565.560147    704.489990   \n",
              "min         0.000000      0.000000       0.000000      0.000000      0.000000   \n",
              "25%       518.000000      0.000000       0.000000    112.000000    135.000000   \n",
              "50%       861.000000      7.000000     232.000000    144.000000    180.000000   \n",
              "75%      1428.000000      7.000000    1604.000000    228.000000    285.000000   \n",
              "max    131761.000000    140.000000  197872.000000  36272.000000  45340.000000   \n",
              "\n",
              "              Var24         Var25         Var28         Var35         Var38  \\\n",
              "count  42770.000000  44991.000000  44989.000000  44991.000000  4.499100e+04   \n",
              "mean       4.507926     96.827010    224.507669      0.716810  2.579107e+06   \n",
              "std        9.928819    214.318283     98.520240      2.996007  3.010076e+06   \n",
              "min        0.000000      0.000000    -66.880000      0.000000  0.000000e+00   \n",
              "25%        0.000000     16.000000    166.560000      0.000000  7.794000e+03   \n",
              "50%        2.000000     48.000000    220.080000      0.000000  1.290246e+06   \n",
              "75%        6.000000    112.000000    266.400000      0.000000  4.570944e+06   \n",
              "max      494.000000  13168.000000   5158.560000    110.000000  1.884690e+07   \n",
              "\n",
              "              Var44         Var57         Var65        Var73          Var74  \\\n",
              "count  44991.000000  50000.000000  44461.000000  50000.00000   44461.000000   \n",
              "mean       0.166833      3.512311     14.868896     66.64108     103.658127   \n",
              "std        1.629344      2.025882     10.134441     52.85917     766.711978   \n",
              "min        0.000000      0.000214      9.000000      4.00000       0.000000   \n",
              "25%        0.000000      1.743164      9.000000     24.00000       0.000000   \n",
              "50%        0.000000      3.514741      9.000000     52.00000       7.000000   \n",
              "75%        0.000000      5.264741     18.000000    102.00000      84.000000   \n",
              "max      135.000000      7.000000    180.000000    264.00000  142156.000000   \n",
              "\n",
              "              Var76         Var78         Var81         Var83         Var85  \\\n",
              "count  4.499100e+04  44991.000000  4.447100e+04  44991.000000  44991.000000   \n",
              "mean   1.490154e+06      0.534707  1.030841e+05     20.023560      8.461026   \n",
              "std    1.853693e+06      2.135359  1.062721e+05     88.129462     20.620485   \n",
              "min    0.000000e+00      0.000000  0.000000e+00      0.000000      0.000000   \n",
              "25%    8.936000e+04      0.000000  1.635696e+04      0.000000      0.000000   \n",
              "50%    8.820000e+05      0.000000  7.352341e+04     10.000000      4.000000   \n",
              "75%    2.309884e+06      0.000000  1.819770e+05     25.000000     10.000000   \n",
              "max    1.935360e+07     39.000000  1.814403e+06   6335.000000   1178.000000   \n",
              "\n",
              "             Var109        Var112        Var113         Var119        Var123  \\\n",
              "count  42770.000000  44991.000000  5.000000e+04   44471.000000  44991.000000   \n",
              "mean      60.888660     66.221066 -1.532786e+05     916.112185     60.188038   \n",
              "std      141.249202    157.637671  7.613730e+05    2165.433155    221.551302   \n",
              "min        0.000000      0.000000 -9.803600e+06       0.000000      0.000000   \n",
              "25%       24.000000     16.000000 -1.827148e+05     425.000000      6.000000   \n",
              "50%       32.000000     40.000000  2.961542e+04     560.000000     30.000000   \n",
              "75%       56.000000     72.000000  1.474875e+05     895.000000     72.000000   \n",
              "max     7456.000000  10352.000000  9.932480e+06  105060.000000  13086.000000   \n",
              "\n",
              "             Var125        Var126        Var132        Var133        Var134  \\\n",
              "count  4.446100e+04  36080.000000  44991.000000  4.499100e+04  4.499100e+04   \n",
              "mean   2.788763e+04     -0.553880      3.524616  2.273572e+06  4.373404e+05   \n",
              "std    9.012838e+04     22.532095      9.994878  2.438600e+06  6.043415e+05   \n",
              "min    0.000000e+00    -32.000000      0.000000  0.000000e+00  0.000000e+00   \n",
              "25%    2.340000e+02    -20.000000      0.000000  2.168075e+05  2.980800e+04   \n",
              "50%    6.471000e+03      4.000000      0.000000  1.479810e+06  2.089280e+05   \n",
              "75%    3.161700e+04     10.000000      0.000000  3.604725e+06  6.148840e+05   \n",
              "max    5.436045e+06     68.000000    184.000000  1.500990e+07  5.735340e+06   \n",
              "\n",
              "              Var140        Var143        Var144        Var149        Var153  \\\n",
              "count   44461.000000  44991.000000  44471.000000  4.277000e+04  4.499100e+04   \n",
              "mean     1381.259643      0.058012     11.727665  2.949208e+05  6.181967e+06   \n",
              "std      3990.510522      0.643061     11.720288  6.568946e+05  4.348926e+06   \n",
              "min         0.000000      0.000000      0.000000  0.000000e+00  0.000000e+00   \n",
              "25%         0.000000      0.000000      0.000000  0.000000e+00  1.232346e+06   \n",
              "50%       220.000000      0.000000      9.000000  5.189800e+04  8.131560e+06   \n",
              "75%      1350.000000      0.000000     18.000000  4.121128e+05  1.037338e+07   \n",
              "max    520545.000000     18.000000     81.000000  1.693440e+07  1.390780e+07   \n",
              "\n",
              "             Var160        Var163        Var173        Var181  \n",
              "count  44991.000000  4.499100e+04  44991.000000  44991.000000  \n",
              "mean      38.803005  4.860780e+05      0.006846      0.611456  \n",
              "std       99.497149  8.488638e+05      0.132503      2.495681  \n",
              "min        0.000000  0.000000e+00      0.000000      0.000000  \n",
              "25%       10.000000  0.000000e+00      0.000000      0.000000  \n",
              "50%       22.000000  1.346220e+05      0.000000      0.000000  \n",
              "75%       42.000000  6.159000e+05      0.000000      0.000000  \n",
              "max     4862.000000  1.451520e+07      6.000000     49.000000  "
            ],
            "text/html": [
              "\n",
              "  <div id=\"df-23aab201-8467-4338-afcf-930bd92467a8\">\n",
              "    <div class=\"colab-df-container\">\n",
              "      <div>\n",
              "<style scoped>\n",
              "    .dataframe tbody tr th:only-of-type {\n",
              "        vertical-align: middle;\n",
              "    }\n",
              "\n",
              "    .dataframe tbody tr th {\n",
              "        vertical-align: top;\n",
              "    }\n",
              "\n",
              "    .dataframe thead th {\n",
              "        text-align: right;\n",
              "    }\n",
              "</style>\n",
              "<table border=\"1\" class=\"dataframe\">\n",
              "  <thead>\n",
              "    <tr style=\"text-align: right;\">\n",
              "      <th></th>\n",
              "      <th>Var6</th>\n",
              "      <th>Var7</th>\n",
              "      <th>Var13</th>\n",
              "      <th>Var21</th>\n",
              "      <th>Var22</th>\n",
              "      <th>Var24</th>\n",
              "      <th>Var25</th>\n",
              "      <th>Var28</th>\n",
              "      <th>Var35</th>\n",
              "      <th>Var38</th>\n",
              "      <th>Var44</th>\n",
              "      <th>Var57</th>\n",
              "      <th>Var65</th>\n",
              "      <th>Var73</th>\n",
              "      <th>Var74</th>\n",
              "      <th>Var76</th>\n",
              "      <th>Var78</th>\n",
              "      <th>Var81</th>\n",
              "      <th>Var83</th>\n",
              "      <th>Var85</th>\n",
              "      <th>Var109</th>\n",
              "      <th>Var112</th>\n",
              "      <th>Var113</th>\n",
              "      <th>Var119</th>\n",
              "      <th>Var123</th>\n",
              "      <th>Var125</th>\n",
              "      <th>Var126</th>\n",
              "      <th>Var132</th>\n",
              "      <th>Var133</th>\n",
              "      <th>Var134</th>\n",
              "      <th>Var140</th>\n",
              "      <th>Var143</th>\n",
              "      <th>Var144</th>\n",
              "      <th>Var149</th>\n",
              "      <th>Var153</th>\n",
              "      <th>Var160</th>\n",
              "      <th>Var163</th>\n",
              "      <th>Var173</th>\n",
              "      <th>Var181</th>\n",
              "    </tr>\n",
              "  </thead>\n",
              "  <tbody>\n",
              "    <tr>\n",
              "      <th>count</th>\n",
              "      <td>44471.000000</td>\n",
              "      <td>44461.000000</td>\n",
              "      <td>44461.000000</td>\n",
              "      <td>44471.000000</td>\n",
              "      <td>44991.000000</td>\n",
              "      <td>42770.000000</td>\n",
              "      <td>44991.000000</td>\n",
              "      <td>44989.000000</td>\n",
              "      <td>44991.000000</td>\n",
              "      <td>4.499100e+04</td>\n",
              "      <td>44991.000000</td>\n",
              "      <td>50000.000000</td>\n",
              "      <td>44461.000000</td>\n",
              "      <td>50000.00000</td>\n",
              "      <td>44461.000000</td>\n",
              "      <td>4.499100e+04</td>\n",
              "      <td>44991.000000</td>\n",
              "      <td>4.447100e+04</td>\n",
              "      <td>44991.000000</td>\n",
              "      <td>44991.000000</td>\n",
              "      <td>42770.000000</td>\n",
              "      <td>44991.000000</td>\n",
              "      <td>5.000000e+04</td>\n",
              "      <td>44471.000000</td>\n",
              "      <td>44991.000000</td>\n",
              "      <td>4.446100e+04</td>\n",
              "      <td>36080.000000</td>\n",
              "      <td>44991.000000</td>\n",
              "      <td>4.499100e+04</td>\n",
              "      <td>4.499100e+04</td>\n",
              "      <td>44461.000000</td>\n",
              "      <td>44991.000000</td>\n",
              "      <td>44471.000000</td>\n",
              "      <td>4.277000e+04</td>\n",
              "      <td>4.499100e+04</td>\n",
              "      <td>44991.000000</td>\n",
              "      <td>4.499100e+04</td>\n",
              "      <td>44991.000000</td>\n",
              "      <td>44991.000000</td>\n",
              "    </tr>\n",
              "    <tr>\n",
              "      <th>mean</th>\n",
              "      <td>1326.437116</td>\n",
              "      <td>6.809496</td>\n",
              "      <td>1249.688401</td>\n",
              "      <td>234.518225</td>\n",
              "      <td>290.245382</td>\n",
              "      <td>4.507926</td>\n",
              "      <td>96.827010</td>\n",
              "      <td>224.507669</td>\n",
              "      <td>0.716810</td>\n",
              "      <td>2.579107e+06</td>\n",
              "      <td>0.166833</td>\n",
              "      <td>3.512311</td>\n",
              "      <td>14.868896</td>\n",
              "      <td>66.64108</td>\n",
              "      <td>103.658127</td>\n",
              "      <td>1.490154e+06</td>\n",
              "      <td>0.534707</td>\n",
              "      <td>1.030841e+05</td>\n",
              "      <td>20.023560</td>\n",
              "      <td>8.461026</td>\n",
              "      <td>60.888660</td>\n",
              "      <td>66.221066</td>\n",
              "      <td>-1.532786e+05</td>\n",
              "      <td>916.112185</td>\n",
              "      <td>60.188038</td>\n",
              "      <td>2.788763e+04</td>\n",
              "      <td>-0.553880</td>\n",
              "      <td>3.524616</td>\n",
              "      <td>2.273572e+06</td>\n",
              "      <td>4.373404e+05</td>\n",
              "      <td>1381.259643</td>\n",
              "      <td>0.058012</td>\n",
              "      <td>11.727665</td>\n",
              "      <td>2.949208e+05</td>\n",
              "      <td>6.181967e+06</td>\n",
              "      <td>38.803005</td>\n",
              "      <td>4.860780e+05</td>\n",
              "      <td>0.006846</td>\n",
              "      <td>0.611456</td>\n",
              "    </tr>\n",
              "    <tr>\n",
              "      <th>std</th>\n",
              "      <td>2685.693668</td>\n",
              "      <td>6.326053</td>\n",
              "      <td>2794.954874</td>\n",
              "      <td>565.560147</td>\n",
              "      <td>704.489990</td>\n",
              "      <td>9.928819</td>\n",
              "      <td>214.318283</td>\n",
              "      <td>98.520240</td>\n",
              "      <td>2.996007</td>\n",
              "      <td>3.010076e+06</td>\n",
              "      <td>1.629344</td>\n",
              "      <td>2.025882</td>\n",
              "      <td>10.134441</td>\n",
              "      <td>52.85917</td>\n",
              "      <td>766.711978</td>\n",
              "      <td>1.853693e+06</td>\n",
              "      <td>2.135359</td>\n",
              "      <td>1.062721e+05</td>\n",
              "      <td>88.129462</td>\n",
              "      <td>20.620485</td>\n",
              "      <td>141.249202</td>\n",
              "      <td>157.637671</td>\n",
              "      <td>7.613730e+05</td>\n",
              "      <td>2165.433155</td>\n",
              "      <td>221.551302</td>\n",
              "      <td>9.012838e+04</td>\n",
              "      <td>22.532095</td>\n",
              "      <td>9.994878</td>\n",
              "      <td>2.438600e+06</td>\n",
              "      <td>6.043415e+05</td>\n",
              "      <td>3990.510522</td>\n",
              "      <td>0.643061</td>\n",
              "      <td>11.720288</td>\n",
              "      <td>6.568946e+05</td>\n",
              "      <td>4.348926e+06</td>\n",
              "      <td>99.497149</td>\n",
              "      <td>8.488638e+05</td>\n",
              "      <td>0.132503</td>\n",
              "      <td>2.495681</td>\n",
              "    </tr>\n",
              "    <tr>\n",
              "      <th>min</th>\n",
              "      <td>0.000000</td>\n",
              "      <td>0.000000</td>\n",
              "      <td>0.000000</td>\n",
              "      <td>0.000000</td>\n",
              "      <td>0.000000</td>\n",
              "      <td>0.000000</td>\n",
              "      <td>0.000000</td>\n",
              "      <td>-66.880000</td>\n",
              "      <td>0.000000</td>\n",
              "      <td>0.000000e+00</td>\n",
              "      <td>0.000000</td>\n",
              "      <td>0.000214</td>\n",
              "      <td>9.000000</td>\n",
              "      <td>4.00000</td>\n",
              "      <td>0.000000</td>\n",
              "      <td>0.000000e+00</td>\n",
              "      <td>0.000000</td>\n",
              "      <td>0.000000e+00</td>\n",
              "      <td>0.000000</td>\n",
              "      <td>0.000000</td>\n",
              "      <td>0.000000</td>\n",
              "      <td>0.000000</td>\n",
              "      <td>-9.803600e+06</td>\n",
              "      <td>0.000000</td>\n",
              "      <td>0.000000</td>\n",
              "      <td>0.000000e+00</td>\n",
              "      <td>-32.000000</td>\n",
              "      <td>0.000000</td>\n",
              "      <td>0.000000e+00</td>\n",
              "      <td>0.000000e+00</td>\n",
              "      <td>0.000000</td>\n",
              "      <td>0.000000</td>\n",
              "      <td>0.000000</td>\n",
              "      <td>0.000000e+00</td>\n",
              "      <td>0.000000e+00</td>\n",
              "      <td>0.000000</td>\n",
              "      <td>0.000000e+00</td>\n",
              "      <td>0.000000</td>\n",
              "      <td>0.000000</td>\n",
              "    </tr>\n",
              "    <tr>\n",
              "      <th>25%</th>\n",
              "      <td>518.000000</td>\n",
              "      <td>0.000000</td>\n",
              "      <td>0.000000</td>\n",
              "      <td>112.000000</td>\n",
              "      <td>135.000000</td>\n",
              "      <td>0.000000</td>\n",
              "      <td>16.000000</td>\n",
              "      <td>166.560000</td>\n",
              "      <td>0.000000</td>\n",
              "      <td>7.794000e+03</td>\n",
              "      <td>0.000000</td>\n",
              "      <td>1.743164</td>\n",
              "      <td>9.000000</td>\n",
              "      <td>24.00000</td>\n",
              "      <td>0.000000</td>\n",
              "      <td>8.936000e+04</td>\n",
              "      <td>0.000000</td>\n",
              "      <td>1.635696e+04</td>\n",
              "      <td>0.000000</td>\n",
              "      <td>0.000000</td>\n",
              "      <td>24.000000</td>\n",
              "      <td>16.000000</td>\n",
              "      <td>-1.827148e+05</td>\n",
              "      <td>425.000000</td>\n",
              "      <td>6.000000</td>\n",
              "      <td>2.340000e+02</td>\n",
              "      <td>-20.000000</td>\n",
              "      <td>0.000000</td>\n",
              "      <td>2.168075e+05</td>\n",
              "      <td>2.980800e+04</td>\n",
              "      <td>0.000000</td>\n",
              "      <td>0.000000</td>\n",
              "      <td>0.000000</td>\n",
              "      <td>0.000000e+00</td>\n",
              "      <td>1.232346e+06</td>\n",
              "      <td>10.000000</td>\n",
              "      <td>0.000000e+00</td>\n",
              "      <td>0.000000</td>\n",
              "      <td>0.000000</td>\n",
              "    </tr>\n",
              "    <tr>\n",
              "      <th>50%</th>\n",
              "      <td>861.000000</td>\n",
              "      <td>7.000000</td>\n",
              "      <td>232.000000</td>\n",
              "      <td>144.000000</td>\n",
              "      <td>180.000000</td>\n",
              "      <td>2.000000</td>\n",
              "      <td>48.000000</td>\n",
              "      <td>220.080000</td>\n",
              "      <td>0.000000</td>\n",
              "      <td>1.290246e+06</td>\n",
              "      <td>0.000000</td>\n",
              "      <td>3.514741</td>\n",
              "      <td>9.000000</td>\n",
              "      <td>52.00000</td>\n",
              "      <td>7.000000</td>\n",
              "      <td>8.820000e+05</td>\n",
              "      <td>0.000000</td>\n",
              "      <td>7.352341e+04</td>\n",
              "      <td>10.000000</td>\n",
              "      <td>4.000000</td>\n",
              "      <td>32.000000</td>\n",
              "      <td>40.000000</td>\n",
              "      <td>2.961542e+04</td>\n",
              "      <td>560.000000</td>\n",
              "      <td>30.000000</td>\n",
              "      <td>6.471000e+03</td>\n",
              "      <td>4.000000</td>\n",
              "      <td>0.000000</td>\n",
              "      <td>1.479810e+06</td>\n",
              "      <td>2.089280e+05</td>\n",
              "      <td>220.000000</td>\n",
              "      <td>0.000000</td>\n",
              "      <td>9.000000</td>\n",
              "      <td>5.189800e+04</td>\n",
              "      <td>8.131560e+06</td>\n",
              "      <td>22.000000</td>\n",
              "      <td>1.346220e+05</td>\n",
              "      <td>0.000000</td>\n",
              "      <td>0.000000</td>\n",
              "    </tr>\n",
              "    <tr>\n",
              "      <th>75%</th>\n",
              "      <td>1428.000000</td>\n",
              "      <td>7.000000</td>\n",
              "      <td>1604.000000</td>\n",
              "      <td>228.000000</td>\n",
              "      <td>285.000000</td>\n",
              "      <td>6.000000</td>\n",
              "      <td>112.000000</td>\n",
              "      <td>266.400000</td>\n",
              "      <td>0.000000</td>\n",
              "      <td>4.570944e+06</td>\n",
              "      <td>0.000000</td>\n",
              "      <td>5.264741</td>\n",
              "      <td>18.000000</td>\n",
              "      <td>102.00000</td>\n",
              "      <td>84.000000</td>\n",
              "      <td>2.309884e+06</td>\n",
              "      <td>0.000000</td>\n",
              "      <td>1.819770e+05</td>\n",
              "      <td>25.000000</td>\n",
              "      <td>10.000000</td>\n",
              "      <td>56.000000</td>\n",
              "      <td>72.000000</td>\n",
              "      <td>1.474875e+05</td>\n",
              "      <td>895.000000</td>\n",
              "      <td>72.000000</td>\n",
              "      <td>3.161700e+04</td>\n",
              "      <td>10.000000</td>\n",
              "      <td>0.000000</td>\n",
              "      <td>3.604725e+06</td>\n",
              "      <td>6.148840e+05</td>\n",
              "      <td>1350.000000</td>\n",
              "      <td>0.000000</td>\n",
              "      <td>18.000000</td>\n",
              "      <td>4.121128e+05</td>\n",
              "      <td>1.037338e+07</td>\n",
              "      <td>42.000000</td>\n",
              "      <td>6.159000e+05</td>\n",
              "      <td>0.000000</td>\n",
              "      <td>0.000000</td>\n",
              "    </tr>\n",
              "    <tr>\n",
              "      <th>max</th>\n",
              "      <td>131761.000000</td>\n",
              "      <td>140.000000</td>\n",
              "      <td>197872.000000</td>\n",
              "      <td>36272.000000</td>\n",
              "      <td>45340.000000</td>\n",
              "      <td>494.000000</td>\n",
              "      <td>13168.000000</td>\n",
              "      <td>5158.560000</td>\n",
              "      <td>110.000000</td>\n",
              "      <td>1.884690e+07</td>\n",
              "      <td>135.000000</td>\n",
              "      <td>7.000000</td>\n",
              "      <td>180.000000</td>\n",
              "      <td>264.00000</td>\n",
              "      <td>142156.000000</td>\n",
              "      <td>1.935360e+07</td>\n",
              "      <td>39.000000</td>\n",
              "      <td>1.814403e+06</td>\n",
              "      <td>6335.000000</td>\n",
              "      <td>1178.000000</td>\n",
              "      <td>7456.000000</td>\n",
              "      <td>10352.000000</td>\n",
              "      <td>9.932480e+06</td>\n",
              "      <td>105060.000000</td>\n",
              "      <td>13086.000000</td>\n",
              "      <td>5.436045e+06</td>\n",
              "      <td>68.000000</td>\n",
              "      <td>184.000000</td>\n",
              "      <td>1.500990e+07</td>\n",
              "      <td>5.735340e+06</td>\n",
              "      <td>520545.000000</td>\n",
              "      <td>18.000000</td>\n",
              "      <td>81.000000</td>\n",
              "      <td>1.693440e+07</td>\n",
              "      <td>1.390780e+07</td>\n",
              "      <td>4862.000000</td>\n",
              "      <td>1.451520e+07</td>\n",
              "      <td>6.000000</td>\n",
              "      <td>49.000000</td>\n",
              "    </tr>\n",
              "  </tbody>\n",
              "</table>\n",
              "</div>\n",
              "      <button class=\"colab-df-convert\" onclick=\"convertToInteractive('df-23aab201-8467-4338-afcf-930bd92467a8')\"\n",
              "              title=\"Convert this dataframe to an interactive table.\"\n",
              "              style=\"display:none;\">\n",
              "        \n",
              "  <svg xmlns=\"http://www.w3.org/2000/svg\" height=\"24px\"viewBox=\"0 0 24 24\"\n",
              "       width=\"24px\">\n",
              "    <path d=\"M0 0h24v24H0V0z\" fill=\"none\"/>\n",
              "    <path d=\"M18.56 5.44l.94 2.06.94-2.06 2.06-.94-2.06-.94-.94-2.06-.94 2.06-2.06.94zm-11 1L8.5 8.5l.94-2.06 2.06-.94-2.06-.94L8.5 2.5l-.94 2.06-2.06.94zm10 10l.94 2.06.94-2.06 2.06-.94-2.06-.94-.94-2.06-.94 2.06-2.06.94z\"/><path d=\"M17.41 7.96l-1.37-1.37c-.4-.4-.92-.59-1.43-.59-.52 0-1.04.2-1.43.59L10.3 9.45l-7.72 7.72c-.78.78-.78 2.05 0 2.83L4 21.41c.39.39.9.59 1.41.59.51 0 1.02-.2 1.41-.59l7.78-7.78 2.81-2.81c.8-.78.8-2.07 0-2.86zM5.41 20L4 18.59l7.72-7.72 1.47 1.35L5.41 20z\"/>\n",
              "  </svg>\n",
              "      </button>\n",
              "      \n",
              "  <style>\n",
              "    .colab-df-container {\n",
              "      display:flex;\n",
              "      flex-wrap:wrap;\n",
              "      gap: 12px;\n",
              "    }\n",
              "\n",
              "    .colab-df-convert {\n",
              "      background-color: #E8F0FE;\n",
              "      border: none;\n",
              "      border-radius: 50%;\n",
              "      cursor: pointer;\n",
              "      display: none;\n",
              "      fill: #1967D2;\n",
              "      height: 32px;\n",
              "      padding: 0 0 0 0;\n",
              "      width: 32px;\n",
              "    }\n",
              "\n",
              "    .colab-df-convert:hover {\n",
              "      background-color: #E2EBFA;\n",
              "      box-shadow: 0px 1px 2px rgba(60, 64, 67, 0.3), 0px 1px 3px 1px rgba(60, 64, 67, 0.15);\n",
              "      fill: #174EA6;\n",
              "    }\n",
              "\n",
              "    [theme=dark] .colab-df-convert {\n",
              "      background-color: #3B4455;\n",
              "      fill: #D2E3FC;\n",
              "    }\n",
              "\n",
              "    [theme=dark] .colab-df-convert:hover {\n",
              "      background-color: #434B5C;\n",
              "      box-shadow: 0px 1px 3px 1px rgba(0, 0, 0, 0.15);\n",
              "      filter: drop-shadow(0px 1px 2px rgba(0, 0, 0, 0.3));\n",
              "      fill: #FFFFFF;\n",
              "    }\n",
              "  </style>\n",
              "\n",
              "      <script>\n",
              "        const buttonEl =\n",
              "          document.querySelector('#df-23aab201-8467-4338-afcf-930bd92467a8 button.colab-df-convert');\n",
              "        buttonEl.style.display =\n",
              "          google.colab.kernel.accessAllowed ? 'block' : 'none';\n",
              "\n",
              "        async function convertToInteractive(key) {\n",
              "          const element = document.querySelector('#df-23aab201-8467-4338-afcf-930bd92467a8');\n",
              "          const dataTable =\n",
              "            await google.colab.kernel.invokeFunction('convertToInteractive',\n",
              "                                                     [key], {});\n",
              "          if (!dataTable) return;\n",
              "\n",
              "          const docLinkHtml = 'Like what you see? Visit the ' +\n",
              "            '<a target=\"_blank\" href=https://colab.research.google.com/notebooks/data_table.ipynb>data table notebook</a>'\n",
              "            + ' to learn more about interactive tables.';\n",
              "          element.innerHTML = '';\n",
              "          dataTable['output_type'] = 'display_data';\n",
              "          await google.colab.output.renderOutput(dataTable, element);\n",
              "          const docLink = document.createElement('div');\n",
              "          docLink.innerHTML = docLinkHtml;\n",
              "          element.appendChild(docLink);\n",
              "        }\n",
              "      </script>\n",
              "    </div>\n",
              "  </div>\n",
              "  "
            ]
          },
          "metadata": {},
          "execution_count": 97
        }
      ]
    },
    {
      "cell_type": "code",
      "source": [
        "# predictors col names\n",
        "feature_cols = cal_vars_2 + num_vars.values.tolist()"
      ],
      "metadata": {
        "id": "SsH1gN0a1rk_"
      },
      "execution_count": 98,
      "outputs": []
    },
    {
      "cell_type": "code",
      "source": [
        "# move some numeric vars with >75% zero values\n",
        "#feature_cols = [col for col in feature_cols if col not in (['Var173','Var181','Var35','Var44','Var78','Var143'])]"
      ],
      "metadata": {
        "id": "RtrYzJdJvjf7"
      },
      "execution_count": 99,
      "outputs": []
    },
    {
      "cell_type": "markdown",
      "source": [
        "# Tune models"
      ],
      "metadata": {
        "id": "bC5-Q63i_Pfw"
      }
    },
    {
      "cell_type": "code",
      "source": [
        "## split train and test data sets\n",
        "X_train, X_test, y_train, y_test = train_test_split(xs[feature_cols].to_numpy(), y_dt[['y']].to_numpy(), test_size = 0.3, random_state=0)"
      ],
      "metadata": {
        "id": "5FEZh-cq456m"
      },
      "execution_count": 100,
      "outputs": []
    },
    {
      "cell_type": "code",
      "source": [
        "#pipeline: proprocessing numeric and categorical var\n",
        "\n",
        "numeric_transformer = Pipeline(\n",
        "    steps=[('scaler', StandardScaler())\n",
        "           ]\n",
        ")\n",
        "\n",
        "categorical_transformer = Pipeline(\n",
        "    steps=[('onehot', OneHotEncoder(handle_unknown='ignore'))]\n",
        ")\n",
        "\n",
        "preprocessor = ColumnTransformer(\n",
        "    transformers=[('cat', categorical_transformer, np.arange(len(cal_vars_2))),\n",
        "                  ('num', numeric_transformer, np.arange(len(cal_vars_2),len(feature_cols),1))\n",
        "                 ]\n",
        ")"
      ],
      "metadata": {
        "id": "BFyuGDnSYTRs"
      },
      "execution_count": 101,
      "outputs": []
    },
    {
      "cell_type": "code",
      "source": [
        "# weighted imbalance data \n",
        "sample_weights = compute_sample_weight(\n",
        "    class_weight='balanced',\n",
        "    y=y_train.ravel()\n",
        ")"
      ],
      "metadata": {
        "id": "ke4wIbN0rRep"
      },
      "execution_count": 102,
      "outputs": []
    },
    {
      "cell_type": "code",
      "source": [
        "# initialize xgboost classifier\n",
        "xgb_estimator = XGBClassifier(learning_rate =0.1, n_estimators=500, max_depth=8,\n",
        "              min_child_weight=5, gamma=0, subsample=0.8, colsample_bytree=0.8,sample_weight=sample_weights,\n",
        "              objective= 'binary:logistic', nthread=4, scale_pos_weight=90, seed=27)"
      ],
      "metadata": {
        "id": "53ZlO04VYS_r"
      },
      "execution_count": 103,
      "outputs": []
    },
    {
      "cell_type": "code",
      "source": [
        "# built pipeline\n",
        "estimator_xgb = Pipeline(steps = [('preprocessor', preprocessor),\n",
        "                      ('classifier', xgb_estimator)])"
      ],
      "metadata": {
        "id": "rEyP1NLw4GSR"
      },
      "execution_count": 104,
      "outputs": []
    },
    {
      "cell_type": "code",
      "source": [
        "# define grid search parameters\n",
        "n_folds = 3\n",
        "param_grid = dict(classifier__learning_rate = [0.001], \n",
        "                  classifier__n_estimators = [1000],\n",
        "                  classifier__max_depth = [15],\n",
        "                  classifier__subsample = [0.7],\n",
        "                  classifier__colsample_bytree = [0.8],\n",
        "                  classifier__gamma = [0.1],\n",
        "                  classifier__min_child_weight = [5],\n",
        "                  classifier__scale_pos_weight = [70,90]                  \n",
        "                 )\n",
        "grid_xgb = GridSearchCV(estimator_xgb, param_grid = param_grid, cv = n_folds, scoring= 'f1')"
      ],
      "metadata": {
        "id": "wgiZasBDtIPL"
      },
      "execution_count": 105,
      "outputs": []
    },
    {
      "cell_type": "code",
      "source": [
        "# train model with grid search, cv\n",
        "grid_xgb_mdl = grid_xgb.fit(X_train, y_train.ravel())"
      ],
      "metadata": {
        "id": "uP15r25CYR29"
      },
      "execution_count": 106,
      "outputs": []
    },
    {
      "cell_type": "code",
      "source": [
        "grid_xgb_mdl.best_params_"
      ],
      "metadata": {
        "colab": {
          "base_uri": "https://localhost:8080/"
        },
        "id": "BNkzHa07uDIP",
        "outputId": "9bdff77b-0307-4af6-b1e0-b1330eb28256"
      },
      "execution_count": 107,
      "outputs": [
        {
          "output_type": "execute_result",
          "data": {
            "text/plain": [
              "{'classifier__colsample_bytree': 0.8,\n",
              " 'classifier__gamma': 0.1,\n",
              " 'classifier__learning_rate': 0.001,\n",
              " 'classifier__max_depth': 15,\n",
              " 'classifier__min_child_weight': 5,\n",
              " 'classifier__n_estimators': 1000,\n",
              " 'classifier__scale_pos_weight': 90,\n",
              " 'classifier__subsample': 0.7}"
            ]
          },
          "metadata": {},
          "execution_count": 107
        }
      ]
    },
    {
      "cell_type": "code",
      "source": [
        "# save model\n",
        "#filename = 'grid_xgb_mdl.sav'\n",
        "#pickle.dump(grid_xgb_mdl, open(filename, 'wb'))\n",
        "\n",
        "# reload model\n",
        "#grid_xgb_mdl = pickle.load(open(filename, 'rb'))"
      ],
      "metadata": {
        "id": "P85mLAYIjJQw"
      },
      "execution_count": 133,
      "outputs": []
    },
    {
      "cell_type": "markdown",
      "source": [
        "# model evaluation\n",
        "For this imbalance classification question, we choose Recall,F1 score as the model selection metric"
      ],
      "metadata": {
        "id": "u0ehXdWu_vLt"
      }
    },
    {
      "cell_type": "code",
      "source": [
        "y_pred = grid_xgb_mdl.predict(X_test)"
      ],
      "metadata": {
        "id": "mz1OctP2YSCa"
      },
      "execution_count": 135,
      "outputs": []
    },
    {
      "cell_type": "code",
      "source": [
        "metrics.roc_auc_score(y_test,y_pred)"
      ],
      "metadata": {
        "colab": {
          "base_uri": "https://localhost:8080/"
        },
        "id": "6rFSEPFSdzng",
        "outputId": "ffa5715b-4d37-4693-d1f8-0af836063dd6"
      },
      "execution_count": 136,
      "outputs": [
        {
          "output_type": "execute_result",
          "data": {
            "text/plain": [
              "0.5953302957566203"
            ]
          },
          "metadata": {},
          "execution_count": 136
        }
      ]
    },
    {
      "cell_type": "code",
      "source": [
        "print(metrics.classification_report(y_test,y_pred))"
      ],
      "metadata": {
        "colab": {
          "base_uri": "https://localhost:8080/"
        },
        "id": "59I-IIKNaSz9",
        "outputId": "1991f984-7bb0-40ff-ff1c-7e006fb62729"
      },
      "execution_count": 137,
      "outputs": [
        {
          "output_type": "stream",
          "name": "stdout",
          "text": [
            "              precision    recall  f1-score   support\n",
            "\n",
            "          -1       0.99      0.92      0.95     14729\n",
            "           1       0.06      0.27      0.10       271\n",
            "\n",
            "    accuracy                           0.91     15000\n",
            "   macro avg       0.52      0.60      0.53     15000\n",
            "weighted avg       0.97      0.91      0.94     15000\n",
            "\n"
          ]
        }
      ]
    },
    {
      "cell_type": "code",
      "source": [
        "#metrics.confusion_matrix(m_y_test, m_y_pred)\n",
        "disp = metrics.plot_confusion_matrix(grid_xgb_mdl, X_test, y_test)\n",
        "disp.figure_.suptitle(\"Confusion Matrix\")\n",
        "print(f\"Confusion matrix:\\n{disp.confusion_matrix}\")\n",
        "plt.show()"
      ],
      "metadata": {
        "colab": {
          "base_uri": "https://localhost:8080/",
          "height": 415
        },
        "id": "k3m52v_dbyFO",
        "outputId": "7c0a26bc-01ba-4590-99af-4dcf4eb9a525"
      },
      "execution_count": 139,
      "outputs": [
        {
          "output_type": "stream",
          "name": "stderr",
          "text": [
            "/usr/local/lib/python3.7/dist-packages/sklearn/utils/deprecation.py:87: FutureWarning: Function plot_confusion_matrix is deprecated; Function `plot_confusion_matrix` is deprecated in 1.0 and will be removed in 1.2. Use one of the class methods: ConfusionMatrixDisplay.from_predictions or ConfusionMatrixDisplay.from_estimator.\n",
            "  warnings.warn(msg, category=FutureWarning)\n"
          ]
        },
        {
          "output_type": "execute_result",
          "data": {
            "text/plain": [
              "Text(0.5, 0.98, 'Confusion Matrix')"
            ]
          },
          "metadata": {},
          "execution_count": 139
        },
        {
          "output_type": "stream",
          "name": "stdout",
          "text": [
            "Confusion matrix:\n",
            "[[13624  1105]\n",
            " [  199    72]]\n"
          ]
        },
        {
          "output_type": "display_data",
          "data": {
            "text/plain": [
              "<Figure size 432x288 with 2 Axes>"
            ],
            "image/png": "[encoded data removed]"
          },
          "metadata": {
            "needs_background": "light"
          }
        }
      ]
    },
    {
      "cell_type": "markdown",
      "source": [
        "# Summary:\n",
        "\n",
        "*   This is a binary imbalance classification problem\n",
        "*   Xgboost tree classifier is a powerful and popular classifier. Its built-in algorithms deal with missing data or sparse values of features issues and weighted classes.\n",
        "\n",
        "*   After tuning the hyper parameters with gird search and cross validation, the best model with roc auc = 0.6, a fair model.\n",
        "* For further improve model ability to identify minority class, could explor resampling method, try other classifiers(Random Forest, SVM...) and also further refine the feature selection process.\n",
        "\n",
        "\n"
      ],
      "metadata": {
        "id": "KCNrqHClcBvz"
      }
    }
  ]
}